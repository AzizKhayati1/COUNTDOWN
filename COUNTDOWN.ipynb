{
 "cells": [
  {
   "cell_type": "code",
   "execution_count": 39,
   "id": "53a723ff-7e5d-465e-ba75-69ab1c67cbbc",
   "metadata": {},
   "outputs": [
    {
     "name": "stdin",
     "output_type": "stream",
     "text": [
      "input your time in seconds 20\n"
     ]
    },
    {
     "name": "stdout",
     "output_type": "stream",
     "text": [
      "Fire in the hole!!\n"
     ]
    }
   ],
   "source": [
    "import time \n",
    "def countdown(t) :  \n",
    "    while t : \n",
    "        minutes,seconds = divmod(t,60)\n",
    "        timer = '{:02d}:{:02d}'.format(minutes, seconds)\n",
    "        print(timer, end=\"\\r\")\n",
    "        time.sleep(1)\n",
    "        t -= 1\n",
    "      \n",
    "    print('Fire in the hole!!')\n",
    "t= int(input(\"input your time in seconds\")) \n",
    "countdown(t)\n",
    "\n",
    "  \n",
    "\n"
   ]
  },
  {
   "cell_type": "code",
   "execution_count": null,
   "id": "388cf977-541c-41ec-b86b-6ce2b8d4fb9e",
   "metadata": {},
   "outputs": [],
   "source": []
  },
  {
   "cell_type": "code",
   "execution_count": null,
   "id": "8116f46f-f2b9-4ca6-ac76-23e0c3c38d86",
   "metadata": {},
   "outputs": [],
   "source": []
  }
 ],
 "metadata": {
  "kernelspec": {
   "display_name": "Python 3",
   "language": "python",
   "name": "python3"
  },
  "language_info": {
   "codemirror_mode": {
    "name": "ipython",
    "version": 3
   },
   "file_extension": ".py",
   "mimetype": "text/x-python",
   "name": "python",
   "nbconvert_exporter": "python",
   "pygments_lexer": "ipython3",
   "version": "3.8.8"
  }
 },
 "nbformat": 4,
 "nbformat_minor": 5
}
